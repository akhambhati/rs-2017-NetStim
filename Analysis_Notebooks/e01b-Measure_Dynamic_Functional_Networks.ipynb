{
 "cells": [
  {
   "cell_type": "markdown",
   "metadata": {
    "toc": "true"
   },
   "source": [
    "# Table of Contents\n",
    " <p><div class=\"lev1 toc-item\"><a href=\"#Measure-Dynamic-Functional-Connectivity\" data-toc-modified-id=\"Measure-Dynamic-Functional-Connectivity-1\"><span class=\"toc-item-num\">1&nbsp;&nbsp;</span>Measure Dynamic Functional Connectivity</a></div><div class=\"lev2 toc-item\"><a href=\"#Initialize-Environment\" data-toc-modified-id=\"Initialize-Environment-11\"><span class=\"toc-item-num\">1.1&nbsp;&nbsp;</span>Initialize Environment</a></div><div class=\"lev2 toc-item\"><a href=\"#Gather-all-data-sets\" data-toc-modified-id=\"Gather-all-data-sets-12\"><span class=\"toc-item-num\">1.2&nbsp;&nbsp;</span>Gather all data sets</a></div><div class=\"lev2 toc-item\"><a href=\"#Generate-processing-list\" data-toc-modified-id=\"Generate-processing-list-13\"><span class=\"toc-item-num\">1.3&nbsp;&nbsp;</span>Generate processing list</a></div><div class=\"lev2 toc-item\"><a href=\"#Submit-proc_list-to-qsub-as-jobs\" data-toc-modified-id=\"Submit-proc_list-to-qsub-as-jobs-14\"><span class=\"toc-item-num\">1.4&nbsp;&nbsp;</span>Submit proc_list to qsub as jobs</a></div><div class=\"lev2 toc-item\"><a href=\"#Submit-proc_list-to-qsub-as-jobs\" data-toc-modified-id=\"Submit-proc_list-to-qsub-as-jobs-15\"><span class=\"toc-item-num\">1.5&nbsp;&nbsp;</span>Submit proc_list to qsub as jobs</a></div><div class=\"lev2 toc-item\"><a href=\"#Continuously-monitor-queue-size-and-run-remaining-jobs\" data-toc-modified-id=\"Continuously-monitor-queue-size-and-run-remaining-jobs-16\"><span class=\"toc-item-num\">1.6&nbsp;&nbsp;</span>Continuously monitor queue size and run remaining jobs</a></div><div class=\"lev1 toc-item\"><a href=\"#Check-Adjacency\" data-toc-modified-id=\"Check-Adjacency-2\"><span class=\"toc-item-num\">2&nbsp;&nbsp;</span>Check Adjacency</a></div>"
   ]
  },
  {
   "cell_type": "markdown",
   "metadata": {},
   "source": [
    "# Measure Dynamic Functional Connectivity"
   ]
  },
  {
   "cell_type": "markdown",
   "metadata": {},
   "source": [
    "## Initialize Environment"
   ]
  },
  {
   "cell_type": "code",
   "execution_count": null,
   "metadata": {},
   "outputs": [],
   "source": [
    "try:\n",
    "    %load_ext autoreload\n",
    "    %autoreload 2\n",
    "    %reset\n",
    "except:\n",
    "    print 'NOT IPYTHON'\n",
    "\n",
    "from __future__ import division\n",
    "\n",
    "import os\n",
    "import sys\n",
    "import glob\n",
    "import time\n",
    "\n",
    "import pickle as pkl\n",
    "import numpy as np\n",
    "import pandas as pd\n",
    "import seaborn as sns\n",
    "import scipy.stats as stats\n",
    "import scipy.io as io\n",
    "import h5py\n",
    "import matplotlib.pyplot as plt\n",
    "from matplotlib import rcParams\n",
    "\n",
    "sys.path.append('/home/akhambhati/JagHome/hoth_research/Echobase')\n",
    "import Echobase\n",
    "\n",
    "rcParams = Echobase.Plotting.fig_format.update_rcparams(rcParams)\n",
    "\n",
    "path_CoreData = '/data/jag/akhambhati/Remotes/CORE.RAM_Stim'\n",
    "path_PeriphData = '/home/akhambhati/Procd_Data/RSRCH.RAM_Stim'\n",
    "path_ExpData = path_PeriphData + '/e01b-FuncNetw'\n",
    "\n",
    "for path in [path_CoreData, path_PeriphData, path_ExpData]:\n",
    "    if not os.path.exists(path):\n",
    "        print('Path: {}, does not exist'.format(path))\n",
    "        os.makedirs(path)"
   ]
  },
  {
   "cell_type": "markdown",
   "metadata": {},
   "source": [
    "## Gather all data sets"
   ]
  },
  {
   "cell_type": "code",
   "execution_count": null,
   "metadata": {
    "collapsed": false
   },
   "outputs": [],
   "source": [
    "path_list = glob.glob('{}/Baseline_Trials/*.mat'.format(path_CoreData))\n",
    "\n",
    "data_list = []\n",
    "for pth in path_list:    \n",
    "    full_file = pth.split('/')[-1]    \n",
    "    subj_id = full_file.split('.')[0]\n",
    "    trial_id = full_file.split('.')[-2]\n",
    "\n",
    "    chan_file = glob.glob('{}/Exp_Info/Channel_Info/{}.mat'.format(path_CoreData, subj_id))\n",
    "    if len(chan_file) != 1:\n",
    "        continue\n",
    "    chan_file = chan_file[0]\n",
    "\n",
    "    event_file = glob.glob('{}/Exp_Info/PS_Events/{}_events.mat'.format(path_CoreData, subj_id))\n",
    "    if len(event_file) != 1:\n",
    "        continue\n",
    "    event_file = event_file[0]\n",
    "\n",
    "    trial_lut_file = glob.glob('{}/Exp_Info/LUT_Trial_Events/{}_trial_lut.mat'.format(path_CoreData, subj_id))\n",
    "    if len(trial_lut_file) != 1:\n",
    "        continue\n",
    "    trial_lut_file = trial_lut_file[0]\n",
    "    \n",
    "    data_list.append({'chan_path': chan_file,\n",
    "                      'event_path': event_file,\n",
    "                      'trial_lut_path': trial_lut_file,\n",
    "                      'trial_id': trial_id.split('_')[-1],\n",
    "                      'raw_path': pth,\n",
    "                      'raw_name': '{}.{}'.format(subj_id, trial_id)})"
   ]
  },
  {
   "cell_type": "markdown",
   "metadata": {},
   "source": [
    "## Generate processing list"
   ]
  },
  {
   "cell_type": "code",
   "execution_count": null,
   "metadata": {},
   "outputs": [],
   "source": [
    "proc_item = []\n",
    "for d_item in data_list:\n",
    "    chan_path = d_item['chan_path']\n",
    "    event_path = d_item['event_path']\n",
    "    trial_lut_path = d_item['trial_lut_path']  \n",
    "    trial_id = d_item['trial_id']\n",
    "    raw_path = d_item['raw_path']\n",
    "    raw_name = d_item['raw_name']\n",
    "    res_path = '{}/Adjacency.{}.npz'.format(path_ExpData, raw_name)\n",
    "\n",
    "    if os.path.exists(res_path):\n",
    "        continue\n",
    "\n",
    "    if os.path.exists('{}/Adjacency.{}.stdout'.format(path_ExpData, raw_name)):\n",
    "        continue\n",
    "\n",
    "    proc_item.append({'chan_path': chan_path,\n",
    "                      'event_path': event_path,\n",
    "                      'trial_lut_path': trial_lut_path,     \n",
    "                      'trial_id': trial_id,\n",
    "                      'raw_path': raw_path,\n",
    "                      'raw_name': raw_name,\n",
    "                      'res_path': res_path})\n",
    "print('There are {} jobs to process.'.format(len(proc_item)))\n",
    "    \n",
    "pkl.dump(proc_item, open('{}/proc_list.pkl'.format(path_ExpData), 'w'))  "
   ]
  },
  {
   "cell_type": "markdown",
   "metadata": {},
   "source": [
    "## Submit proc_list to qsub as jobs"
   ]
  },
  {
   "cell_type": "code",
   "execution_count": null,
   "metadata": {
    "collapsed": false
   },
   "outputs": [],
   "source": [
    "!qsub -t 1-1 ./e01-Measure_Adjacency-Baseline.py"
   ]
  },
  {
   "cell_type": "markdown",
   "metadata": {},
   "source": [
    "# Check Adjacency"
   ]
  },
  {
   "cell_type": "code",
   "execution_count": null,
   "metadata": {
    "scrolled": false
   },
   "outputs": [],
   "source": [
    "%matplotlib inline\n",
    "\n",
    "# Check fin_items for a list of processed adjacency matrices\n",
    "adj_paths = np.random.permutation(glob.glob('{}/*.npz'.format(path_ExpData)))\n",
    "adj = np.load(adj_paths[-1])['adj'].item()\n",
    "\n",
    "print(adj_paths[-1])\n",
    "print('No-Stimulus Adjacency')\n",
    "plt.figure(figsize=(3,3), dpi=200)\n",
    "ax = plt.subplot(2,2,1); ax.matshow(adj['No_Stim']['AlphaTheta'], cmap='viridis', vmin=0, vmax=1); ax.set_axis_off();\n",
    "ax = plt.subplot(2,2,2); ax.matshow(adj['No_Stim']['Beta'], cmap='viridis', vmin=0, vmax=1); ax.set_axis_off();\n",
    "ax = plt.subplot(2,2,3); ax.matshow(adj['No_Stim']['LowGamma'], cmap='viridis', vmin=0, vmax=1); ax.set_axis_off();\n",
    "ax = plt.subplot(2,2,4); ax.matshow(adj['No_Stim']['HighGamma'], cmap='viridis', vmin=0, vmax=1); ax.set_axis_off();\n",
    "plt.show()"
   ]
  },
  {
   "cell_type": "code",
   "execution_count": null,
   "metadata": {
    "collapsed": false
   },
   "outputs": [],
   "source": []
  }
 ],
 "metadata": {
  "anaconda-cloud": {},
  "kernelspec": {
   "display_name": "Python 2",
   "language": "python",
   "name": "python2"
  },
  "language_info": {
   "codemirror_mode": {
    "name": "ipython",
    "version": 2
   },
   "file_extension": ".py",
   "mimetype": "text/x-python",
   "name": "python",
   "nbconvert_exporter": "python",
   "pygments_lexer": "ipython2",
   "version": "2.7.13"
  },
  "latex_envs": {
   "LaTeX_envs_menu_present": true,
   "bibliofile": "biblio.bib",
   "cite_by": "apalike",
   "current_citInitial": 1,
   "eqLabelWithNumbers": true,
   "eqNumInitial": 0,
   "labels_anchors": false,
   "latex_user_defs": false,
   "report_style_numbering": false,
   "user_envs_cfg": false
  },
  "toc": {
   "colors": {
    "hover_highlight": "#DAA520",
    "running_highlight": "#FF0000",
    "selected_highlight": "#FFD700"
   },
   "moveMenuLeft": true,
   "nav_menu": {
    "height": "138px",
    "width": "252px"
   },
   "navigate_menu": true,
   "number_sections": true,
   "sideBar": true,
   "threshold": 4,
   "toc_cell": true,
   "toc_number_sections": true,
   "toc_section_display": "none",
   "toc_threshold": 6,
   "toc_window_display": true
  }
 },
 "nbformat": 4,
 "nbformat_minor": 1
}
