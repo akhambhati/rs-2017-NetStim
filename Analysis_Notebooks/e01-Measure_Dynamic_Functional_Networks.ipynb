{
 "cells": [
  {
   "cell_type": "markdown",
   "metadata": {
    "toc": "true"
   },
   "source": [
    "# Table of Contents\n",
    " <p><div class=\"lev1\"><a href=\"#Measure-Dynamic-Functional-Connectivity\"><span class=\"toc-item-num\">1&nbsp;&nbsp;</span>Measure Dynamic Functional Connectivity</a></div><div class=\"lev2\"><a href=\"#Initialize-Environment\"><span class=\"toc-item-num\">1.1&nbsp;&nbsp;</span>Initialize Environment</a></div><div class=\"lev2\"><a href=\"#Gather-all-data-sets\"><span class=\"toc-item-num\">1.2&nbsp;&nbsp;</span>Gather all data sets</a></div><div class=\"lev2\"><a href=\"#Generate-processing-list\"><span class=\"toc-item-num\">1.3&nbsp;&nbsp;</span>Generate processing list</a></div><div class=\"lev2\"><a href=\"#Submit-proc_list-to-qsub-as-jobs\"><span class=\"toc-item-num\">1.4&nbsp;&nbsp;</span>Submit proc_list to qsub as jobs</a></div><div class=\"lev1\"><a href=\"#Check-Adjacency\"><span class=\"toc-item-num\">2&nbsp;&nbsp;</span>Check Adjacency</a></div>"
   ]
  },
  {
   "cell_type": "markdown",
   "metadata": {},
   "source": [
    "# Measure Dynamic Functional Connectivity"
   ]
  },
  {
   "cell_type": "markdown",
   "metadata": {},
   "source": [
    "## Initialize Environment"
   ]
  },
  {
   "cell_type": "code",
   "execution_count": 1,
   "metadata": {
    "ExecuteTime": {
     "end_time": "2017-01-07T07:30:59.022130",
     "start_time": "2017-01-07T07:30:55.956470"
    },
    "collapsed": false
   },
   "outputs": [
    {
     "name": "stdout",
     "output_type": "stream",
     "text": [
      "Once deleted, variables cannot be recovered. Proceed (y/[n])? y\n"
     ]
    },
    {
     "name": "stderr",
     "output_type": "stream",
     "text": [
      "/home/akhambhati/Developer/miniconda2/envs/echobase/lib/python2.7/site-packages/matplotlib/__init__.py:872: UserWarning: axes.color_cycle is deprecated and replaced with axes.prop_cycle; please use the latter.\n",
      "  warnings.warn(self.msg_depr % (key, alt_key))\n"
     ]
    }
   ],
   "source": [
    "try:\n",
    "    %load_ext autoreload\n",
    "    %autoreload 2\n",
    "    %reset\n",
    "except:\n",
    "    print 'NOT IPYTHON'\n",
    "\n",
    "from __future__ import division\n",
    "\n",
    "import os\n",
    "import sys\n",
    "import glob\n",
    "\n",
    "import numpy as np\n",
    "import pandas as pd\n",
    "import seaborn as sns\n",
    "import scipy.stats as stats\n",
    "import scipy.io as io\n",
    "import h5py\n",
    "import matplotlib.pyplot as plt\n",
    "from matplotlib import rcParams\n",
    "\n",
    "sys.path.append('/home/akhambhati/JagHome/hoth_research/Echobase')\n",
    "import Echobase\n",
    "\n",
    "rcParams = Echobase.Plotting.fig_format.update_rcparams(rcParams)\n",
    "\n",
    "path_CoreData = '/data/jag/akhambhati/Remotes/CORE.RAM_Stim'\n",
    "path_PeriphData = '/data/jag/akhambhati/Remotes/RSRCH.RAM_Stim'\n",
    "path_ExpData = path_PeriphData + '/e01-FuncNetw'\n",
    "\n",
    "for path in [path_CoreData, path_PeriphData, path_ExpData]:\n",
    "    if not os.path.exists(path):\n",
    "        print('Path: {}, does not exist'.format(path))\n",
    "        os.makedirs(path)"
   ]
  },
  {
   "cell_type": "markdown",
   "metadata": {},
   "source": [
    "## Gather all data sets"
   ]
  },
  {
   "cell_type": "code",
   "execution_count": 127,
   "metadata": {
    "ExecuteTime": {
     "end_time": "2017-01-07T12:14:33.711031",
     "start_time": "2017-01-07T12:14:31.804096"
    },
    "collapsed": false
   },
   "outputs": [],
   "source": [
    "path_list = glob.glob('{}/Subjects/*.mat'.format(path_CoreData))\n",
    "\n",
    "subj_dict = {}\n",
    "for pth in path_list:    \n",
    "    full_file = pth.split('/')[-1]    \n",
    "    subj_id = full_file.split('.')[0]\n",
    "\n",
    "    # Check if DataFile or DataFile_2\n",
    "    channel_path = '{}/Subjects/{}.channel_list.mat'.format(path_CoreData, subj_id)\n",
    "    if os.path.exists(channel_path):\n",
    "        continue\n",
    "\n",
    "    \n",
    "    freq_id = full_file.split('.')[1]\n",
    "    amp_id = full_file.split('.')[2]\n",
    "    if not '_' in full_file.split('.')[3]:\n",
    "        amp_id += '_{}'.format(full_file.split('.')[3])\n",
    "    trial_id = full_file.split('.')[4]\n",
    "    \n",
    "    if not subj_id in subj_dict.keys():\n",
    "        subj_dict[subj_id] = {}        \n",
    "    if not freq_id in subj_dict[subj_id].keys():\n",
    "        subj_dict[subj_id][freq_id] = {}\n",
    "    if not amp_id in subj_dict[subj_id][freq_id].keys():\n",
    "        subj_dict[subj_id][freq_id][amp_id] = {}\n",
    "    if not trial_id in subj_dict[subj_id][freq_id][amp_id].keys():\n",
    "        subj_dict[subj_id][freq_id][amp_id][trial_id] = {'raw_path': pth,\n",
    "                                                         'raw_name': '{}.{}.{}.{}'.format(subj_id,\n",
    "                                                                                          freq_id,\n",
    "                                                                                          amp_id,\n",
    "                                                                                          trial_id)}    "
   ]
  },
  {
   "cell_type": "markdown",
   "metadata": {
    "ExecuteTime": {
     "end_time": "2017-01-07T12:11:47.407010",
     "start_time": "2017-01-07T12:11:47.195198"
    }
   },
   "source": [
    "## Generate processing list"
   ]
  },
  {
   "cell_type": "code",
   "execution_count": 187,
   "metadata": {
    "ExecuteTime": {
     "end_time": "2017-01-07T13:40:00.665222",
     "start_time": "2017-01-07T13:39:47.939573"
    },
    "collapsed": false
   },
   "outputs": [
    {
     "name": "stdout",
     "output_type": "stream",
     "text": [
      "There are 42994 jobs to process.\n"
     ]
    }
   ],
   "source": [
    "proc_item = []\n",
    "for subj_id in subj_dict.keys():\n",
    "    for freq_id in subj_dict[subj_id].keys():\n",
    "        for amp_id in subj_dict[subj_id][freq_id].keys():\n",
    "            for trial_id in subj_dict[subj_id][freq_id][amp_id].keys():\n",
    "\n",
    "                raw_path = subj_dict[subj_id][freq_id][amp_id][trial_id]['raw_path']\n",
    "                raw_name = subj_dict[subj_id][freq_id][amp_id][trial_id]['raw_name']\n",
    "                res_path = '{}/Adjacency.{}.npz'.format(path_ExpData, raw_name)\n",
    "                                \n",
    "                if os.path.exists(res_path):\n",
    "                    continue\n",
    "                    \n",
    "                proc_item.append({'raw_path': raw_path,\n",
    "                                  'raw_name': raw_name,\n",
    "                                  'res_path': res_path})\n",
    "print('There are {} jobs to process.'.format(len(proc_item)))"
   ]
  },
  {
   "cell_type": "markdown",
   "metadata": {},
   "source": [
    "## Submit proc_list to qsub as jobs"
   ]
  },
  {
   "cell_type": "code",
   "execution_count": 188,
   "metadata": {
    "ExecuteTime": {
     "end_time": "2017-01-07T13:40:09.067828",
     "start_time": "2017-01-07T13:40:08.604001"
    },
    "collapsed": true
   },
   "outputs": [],
   "source": [
    "# Submit proc_item list as jobs to qsub\n",
    "job_file = open('./e01-Measure_Adjacency.job', 'w')\n",
    "job_file.write('#!/bin/bash\\n\\n')\n",
    "for pitem in proc_item:    \n",
    "    stdout_path = '{}/Adjacency.{}.stdout'.format(path_ExpData, pitem['raw_name'])\n",
    "    stderr_path = '{}/Adjacency.{}.stderr'.format(path_ExpData, pitem['raw_name'])\n",
    "    \n",
    "    py_str = './e01-Measure_Adjacency {} {}'.format(\n",
    "        pitem['raw_path'], pitem['res_path'])\n",
    "\n",
    "    cmd_str = 'qsub -cwd -o {} -e {} -l h_vmem=6.1G,s_vmem=6G'.format(stdout_path, stderr_path)\n",
    "\n",
    "    job_file.write('{} {}\\n'.format(cmd_str, py_str))\n",
    "job_file.close()    "
   ]
  },
  {
   "cell_type": "markdown",
   "metadata": {},
   "source": [
    "# Check Adjacency"
   ]
  },
  {
   "cell_type": "code",
   "execution_count": null,
   "metadata": {
    "ExecuteTime": {
     "start_time": "2017-01-07T18:53:34.527Z"
    },
    "collapsed": false,
    "scrolled": false
   },
   "outputs": [
    {
     "name": "stdout",
     "output_type": "stream",
     "text": [
      "Pre-Stimulus Adjacency\n"
     ]
    }
   ],
   "source": [
    "%matplotlib inline\n",
    "\n",
    "adj = np.load('{}/Adjacency.R1084T.Freq_50.Amp_1_5.Trial_370.npz'.format(path_ExpData))['adj'].item()\n",
    "\n",
    "print('Pre-Stimulus Adjacency')\n",
    "plt.figure()\n",
    "ax = plt.subplot(2,2,1); ax.matshow(adj['Pre_Stim']['AlphaTheta'], cmap='viridis', vmin=0, vmax=1); ax.set_axis_off();\n",
    "ax = plt.subplot(2,2,2); ax.matshow(adj['Pre_Stim']['Beta'], cmap='viridis', vmin=0, vmax=1); ax.set_axis_off();\n",
    "ax = plt.subplot(2,2,3); ax.matshow(adj['Pre_Stim']['LowGamma'], cmap='viridis', vmin=0, vmax=1); ax.set_axis_off();\n",
    "ax = plt.subplot(2,2,4); ax.matshow(adj['Pre_Stim']['HighGamma'], cmap='viridis', vmin=0, vmax=1); ax.set_axis_off();\n",
    "plt.show()\n",
    "\n",
    "print('Post-Stimulus Adjacency')\n",
    "plt.figure()\n",
    "ax = plt.subplot(2,2,1); ax.matshow(adj['Post_Stim']['AlphaTheta'], cmap='viridis', vmin=0, vmax=1); ax.set_axis_off();\n",
    "ax = plt.subplot(2,2,2); ax.matshow(adj['Post_Stim']['Beta'], cmap='viridis', vmin=0, vmax=1); ax.set_axis_off();\n",
    "ax = plt.subplot(2,2,3); ax.matshow(adj['Post_Stim']['LowGamma'], cmap='viridis', vmin=0, vmax=1); ax.set_axis_off();\n",
    "ax = plt.subplot(2,2,4); ax.matshow(adj['Post_Stim']['HighGamma'], cmap='viridis', vmin=0, vmax=1); ax.set_axis_off();\n",
    "plt.show()\n",
    "\n",
    "print('Delta Adjacency')\n",
    "plt.figure()\n",
    "ax = plt.subplot(2,2,1); ax.matshow(adj['Post_Stim']['AlphaTheta']-adj['Pre_Stim']['AlphaTheta'],\n",
    "                                    cmap='viridis', vmin=-1, vmax=1); ax.set_axis_off();\n",
    "ax = plt.subplot(2,2,2); ax.matshow(adj['Post_Stim']['Beta']-adj['Pre_Stim']['Beta'],\n",
    "                                    cmap='viridis', vmin=-1, vmax=1); ax.set_axis_off();\n",
    "ax = plt.subplot(2,2,3); ax.matshow(adj['Post_Stim']['LowGamma']-adj['Pre_Stim']['LowGamma'],\n",
    "                                    cmap='viridis', vmin=-1, vmax=1); ax.set_axis_off();\n",
    "ax = plt.subplot(2,2,4); ax.matshow(adj['Post_Stim']['HighGamma']-adj['Pre_Stim']['HighGamma'],\n",
    "                                    cmap='viridis', vmin=-1, vmax=1); ax.set_axis_off();\n",
    "plt.show()"
   ]
  },
  {
   "cell_type": "code",
   "execution_count": null,
   "metadata": {
    "collapsed": true
   },
   "outputs": [],
   "source": []
  }
 ],
 "metadata": {
  "anaconda-cloud": {},
  "kernelspec": {
   "display_name": "echobase",
   "language": "python",
   "name": "echobase"
  },
  "language_info": {
   "codemirror_mode": {
    "name": "ipython",
    "version": 2
   },
   "file_extension": ".py",
   "mimetype": "text/x-python",
   "name": "python",
   "nbconvert_exporter": "python",
   "pygments_lexer": "ipython2",
   "version": "2.7.13"
  },
  "latex_envs": {
   "bibliofile": "biblio.bib",
   "cite_by": "apalike",
   "current_citInitial": 1,
   "eqLabelWithNumbers": true,
   "eqNumInitial": 0
  },
  "toc": {
   "toc_cell": true,
   "toc_number_sections": true,
   "toc_section_display": "none",
   "toc_threshold": 6,
   "toc_window_display": true
  }
 },
 "nbformat": 4,
 "nbformat_minor": 0
}
